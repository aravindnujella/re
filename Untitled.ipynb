{
 "cells": [
  {
   "cell_type": "code",
   "execution_count": 1,
   "metadata": {},
   "outputs": [
    {
     "data": {
      "text/plain": [
       "<module 'model_lib' from '/home/aravind/re/model_lib.py'>"
      ]
     },
     "execution_count": 1,
     "metadata": {},
     "output_type": "execute_result"
    }
   ],
   "source": [
    "import model_lib\n",
    "import numpy as np\n",
    "import warnings\n",
    "warnings.filterwarnings('ignore', '.*output shape of zoom.*')\n",
    "import pickle\n",
    "import importlib\n",
    "importlib.reload(model_lib)"
   ]
  },
  {
   "cell_type": "code",
   "execution_count": 2,
   "metadata": {},
   "outputs": [],
   "source": [
    "# config to train\n",
    "# TODO: check Config is correct\n",
    "class ProposalConfig():\n",
    "    NAME = \"InSegm\"\n",
    "    GPU_COUNT = 1\n",
    "    # online training\n",
    "    IMAGES_PER_GPU = 4\n",
    "    STEPS_PER_EPOCH = 100\n",
    "    # not going to use these\n",
    "    N_DISTORTIONS = 0\n",
    "    MAX_DISTORTION = 0.3\n",
    "    MIN_DISTORTION = -0.1\n",
    "    \n",
    "    VALIDATION_STEPS = 20\n",
    "    # including gt\n",
    "    NUM_CLASSES = 81\n",
    "    # only flips\n",
    "    IMAGE_AUGMENT = True\n",
    "\n",
    "    MEAN_PIXEL = np.array([123.7, 116.8, 103.9],dtype=np.float32)\n",
    "    MAX_GT_INSTANCES = 100\n",
    "    DETECTION_MAX_INSTANCES = 100\n",
    "    DETECTION_MIN_CONFIDENCE = 0.7\n",
    "    CLASS_NAMES = [\n",
    "        'BG', 'person', 'bicycle', 'car', 'motorcycle', 'airplane', 'bus',\n",
    "        'train', 'truck', 'boat', 'traffic light', 'fire hydrant', 'stop sign',\n",
    "        'parking meter', 'bench', 'bird', 'cat', 'dog', 'horse', 'sheep',\n",
    "        'cow', 'elephant', 'bear', 'zebra', 'giraffe', 'backpack', 'umbrella',\n",
    "        'handbag', 'tie', 'suitcase', 'frisbee', 'skis', 'snowboard',\n",
    "        'sports ball', 'kite', 'baseball bat', 'baseball glove', 'skateboard',\n",
    "        'surfboard', 'tennis racket', 'bottle', 'wine glass', 'cup', 'fork',\n",
    "        'knife', 'spoon', 'bowl', 'banana', 'apple', 'sandwich', 'orange',\n",
    "        'broccoli', 'carrot', 'hot dog', 'pizza', 'donut', 'cake', 'chair',\n",
    "        'couch', 'potted plant', 'bed', 'dining table', 'toilet', 'tv',\n",
    "        'laptop', 'mouse', 'remote', 'keyboard', 'cell phone', 'microwave',\n",
    "        'oven', 'toaster', 'sink', 'refrigerator', 'book', 'clock', 'vase',\n",
    "        'scissors', 'teddy bear', 'hair drier', 'toothbrush'\n",
    "    ]\n",
    "    DETECTION_NMS_THRESHOLD = 0.3\n",
    "    LEARNING_RATE = 0.05\n",
    "    LEARNING_MOMENTUM = 0.9\n",
    "    WEIGHT_DECAY = 0.0001\n",
    "    WIDTH = 640\n",
    "    HEIGHT = 640\n",
    "    MASK_SHAPE = (64,64)\n",
    "    GRID_WIDTH = 16\n",
    "    GRID_HEIGHT = 16\n",
    "    CLUE_SHAPE = (20,20)\n",
    "    GRID_SHAPE = (GRID_WIDTH, GRID_HEIGHT)\n",
    "    GRID_RESOLUTION = (1, 1)\n",
    "    IS_PADDED = True\n",
    "    MASK_THRESOLD = 0.7\n",
    "    def __init__(self):\n",
    "        self.BATCH_SIZE = self.IMAGES_PER_GPU * self.GPU_COUNT\n",
    "        self.IMAGE_SHAPE = (self.WIDTH, self.HEIGHT,3)\n",
    "        self.MAX_BATCH_SIZE = self.BATCH_SIZE*32\n",
    "\n",
    "    def display(self):\n",
    "        \"\"\"Display Configuration values.\"\"\"\n",
    "        print(\"\\nConfigurations:\")\n",
    "        for a in dir(self):\n",
    "            if not a.startswith(\"__\") and not callable(getattr(self, a)):\n",
    "                print(\"{:30} {}\".format(a, getattr(self, a)))\n",
    "        print(\"\\n\")"
   ]
  },
  {
   "cell_type": "code",
   "execution_count": 3,
   "metadata": {},
   "outputs": [],
   "source": [
    "root_dir = \"/media/data/nishanth/aravind/\"\n",
    "config = ProposalConfig()\n",
    "\n",
    "train_dataset,val_dataset = None,None\n",
    "train_pickle = root_dir+\"val_cid.pickle\"\n",
    "val_pickle = root_dir+\"val_cid.pickle\"\n",
    "class ClassInstancesDataset():\n",
    "    def __init__(self):\n",
    "        self.class_wise_instance_info = [[] for i in range(81)]\n",
    "        self.instance_info = []\n",
    "with open(train_pickle,\"rb\") as train_ann:\n",
    "    train_cid = pickle.load(train_ann)\n",
    "#     train_dataset = model_lib.CocoDataset(train_cid,config)\n",
    "with open(val_pickle,\"rb\") as val_ann:\n",
    "    val_cid = pickle.load(val_ann)\n",
    "#     val_dataset = model_lib.CocoDataset(val_cid,config)\n",
    "train_loader = model_lib.get_loader(train_cid,config)\n",
    "val_loader = model_lib.get_loader(val_cid,config)"
   ]
  },
  {
   "cell_type": "code",
   "execution_count": null,
   "metadata": {},
   "outputs": [
    {
     "name": "stdout",
     "output_type": "stream",
     "text": [
      "cuda:1\n",
      "710074\n"
     ]
    }
   ],
   "source": [
    "import torch.optim as optim\n",
    "import torch\n",
    "net = model_lib.SimpleHGModel()\n",
    "device = torch.device(\"cuda:1\")\n",
    "# device = torch.device(\"cpu\")\n",
    "net.to(device)\n",
    "\n",
    "optimizer = optim.SGD(net.parameters(), lr=0.001, momentum=0.9)\n",
    "print(device)\n",
    "\n",
    "net_size = sum([i.numel() for i in net.parameters()])\n",
    "print(net_size)\n",
    "for epoch in range(2):  # loop over the dataset multiple times\n",
    "    running_loss = 0.0\n",
    "    for i, data in enumerate(train_loader, 0):\n",
    "        # get the inputs\n",
    "        batch_images,batch_impulses,batch_gt_responses,batch_class_ids = data\n",
    "        batch_images,batch_impulses,batch_gt_responses,batch_class_ids = batch_images.to(device),batch_impulses.to(device),batch_gt_responses.to(device),batch_class_ids.to(device)\n",
    "        # zero the parameter gradients\n",
    "        optimizer.zero_grad()\n",
    "        # forward + backward + optimize\n",
    "        pred_class = net([batch_images,batch_impulses])\n",
    "        loss = model_lib.loss_criterion(0,0,batch_class_ids,pred_class)\n",
    "        loss.backward()\n",
    "        optimizer.step()\n",
    "\n",
    "        # print statistics\n",
    "        running_loss += loss.item()\n",
    "        if i % 20 == 0:    # print every 200 mini-batches\n",
    "            print('[%d, %5d] loss: %.3f' %\n",
    "                  (epoch + 1, i + 1, running_loss / 200))\n",
    "            running_loss = 0.0\n",
    "\n",
    "print('Finished Training')"
   ]
  },
  {
   "cell_type": "code",
   "execution_count": null,
   "metadata": {},
   "outputs": [],
   "source": [
    "from PIL import Image\n",
    "import random\n",
    "np.set_printoptions(threshold=np.nan)\n",
    "\n",
    "for i,g in enumerate(train_loader):\n",
    "    print(\"sample:\" + str(i))\n",
    "    print(g[0].shape)\n",
    "    batch_images,batch_impulses,batch_gt_responses,batch_class_ids = g\n",
    "    batch_images = np.moveaxis(batch_images.numpy(),1,-1)\n",
    "    batch_impulses = batch_impulses.squeeze().numpy()\n",
    "    batch_gt_responses = batch_gt_responses.squeeze().numpy()\n",
    "    batch_class_ids = batch_class_ids.numpy()\n",
    "    print(batch_images.shape)\n",
    "    for j in range(batch_images.shape[0]):\n",
    "        img = Image.fromarray((batch_images[j]).astype(\"uint8\"),\"RGB\")\n",
    "        img.show()\n",
    "#         print(batch_gt_responses[j])\n",
    "        mask = Image.fromarray(((batch_gt_responses[j])).astype(\"uint8\"),\"L\")\n",
    "        mask.show()\n",
    "        print(config.CLASS_NAMES[batch_class_ids[j]])\n",
    "        impulse = Image.fromarray(((batch_impulses[j])).astype(\"uint8\"),\"L\")\n",
    "        impulse.show()\n",
    "        input()\n",
    "# idx = random.choice(range(len(train_dataset.image_ids)))\n",
    "# print(len(train_dataset.image_ids))\n",
    "# img = Image.fromarray(train_dataset.load_image(idx).astype(\"uint8\"),\"RGB\")\n",
    "# img.show()\n",
    "# masks,class_ids = train_dataset.load_mask(idx)\n",
    "# print(masks.shape)\n",
    "#     input()"
   ]
  },
  {
   "cell_type": "code",
   "execution_count": null,
   "metadata": {},
   "outputs": [],
   "source": []
  },
  {
   "cell_type": "code",
   "execution_count": null,
   "metadata": {},
   "outputs": [],
   "source": []
  }
 ],
 "metadata": {
  "kernelspec": {
   "display_name": "Python [conda env:myenv]",
   "language": "python",
   "name": "conda-env-myenv-py"
  },
  "language_info": {
   "codemirror_mode": {
    "name": "ipython",
    "version": 3
   },
   "file_extension": ".py",
   "mimetype": "text/x-python",
   "name": "python",
   "nbconvert_exporter": "python",
   "pygments_lexer": "ipython3",
   "version": "3.5.5"
  }
 },
 "nbformat": 4,
 "nbformat_minor": 2
}
